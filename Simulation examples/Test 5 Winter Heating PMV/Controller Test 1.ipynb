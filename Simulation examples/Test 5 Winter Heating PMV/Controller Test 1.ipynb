{
 "cells": [
  {
   "cell_type": "code",
   "execution_count": null,
   "id": "0322e382",
   "metadata": {
    "vscode": {
     "languageId": "plaintext"
    }
   },
   "outputs": [
    {
     "name": "stdout",
     "output_type": "stream",
     "text": [
      "✅ Agent loaded from test1_agent\n",
      "✅ Connected to MQTT broker (rc=0)\n",
      "✅ Subscribed to topic: building/observation\n"
     ]
    },
    {
     "name": "stderr",
     "output_type": "stream",
     "text": [
      "/tmp/ipykernel_42782/470963959.py:42: DeprecationWarning: Callback API version 1 is deprecated, update to latest version\n",
      "  client = mqtt.Client()\n"
     ]
    }
   ],
   "source": [
    "import json\n",
    "import time\n",
    "import pickle\n",
    "import numpy as np\n",
    "import paho.mqtt.client as mqtt\n",
    "from stable_baselines3 import SAC\n",
    "\n",
    "# 📌 Parámetros de archivos (ajusta rutas si las cambias)\n",
    "MODEL_PATH       = \"test1_agent\"\n",
    "VECNORM_PATH     = \"test1_agent_vecnormalize.plk\"\n",
    "\n",
    "# ————————————————————————————————————————\n",
    "# 1) Carga del objeto VecNormalize guardado\n",
    "# ————————————————————————————————————————\n",
    "with open(VECNORM_PATH, \"rb\") as f:\n",
    "    vec_norm = pickle.load(f)\n",
    "\n",
    "# Durante la simulación no queremos actualizar medias ni recompensas\n",
    "vec_norm.training    = False\n",
    "vec_norm.norm_reward = False\n",
    "\n",
    "# ————————————————————————————————————————\n",
    "# 2) Carga del modelo SAC (sin env)  \n",
    "# ————————————————————————————————————————\n",
    "model = SAC.load(MODEL_PATH)\n",
    "print(f\"✅ Agent loaded from {MODEL_PATH}\")\n",
    "\n",
    "# ————————————————————————————————————————\n",
    "# 3) MQTT: buffer y callbacks\n",
    "# ————————————————————————————————————————\n",
    "obs_buffer = {}\n",
    "\n",
    "def on_connect(client, userdata, flags, rc):\n",
    "    print(f\"✅ Connected to MQTT broker (rc={rc})\")\n",
    "    client.subscribe(\"building/observation\")\n",
    "    print(\"✅ Subscribed to topic: building/observation\")\n",
    "\n",
    "def on_obs(client, userdata, msg):\n",
    "    # Esperamos un JSON plano: {\"sensor1\": 1.23, \"sensor2\": 4.56, ...}\n",
    "    obs_buffer.update(json.loads(msg.payload))\n",
    "\n",
    "client = mqtt.Client()\n",
    "client.on_connect = on_connect\n",
    "client.on_message = on_obs\n",
    "client.connect(\"mosquitto\", 1883)\n",
    "client.loop_start()\n",
    "\n",
    "# ————————————————————————————————————————\n",
    "# 4) Bucle principal: normalizar y predecir\n",
    "# ————————————————————————————————————————\n",
    "while True:\n",
    "    if obs_buffer:\n",
    "        # 4.1) Construir array ordenado\n",
    "        keys = sorted(obs_buffer.keys())\n",
    "        raw_obs = np.array([obs_buffer[k] for k in keys], dtype=np.float32)\n",
    "\n",
    "        # 4.2) Normalizar usando VecNormalize\n",
    "        #     VecNormalize.normalize_obs() aplica (obs - mean)/sqrt(var+eps) + clipping\n",
    "        obs_norm = vec_norm.normalize_obs(raw_obs)\n",
    "\n",
    "        # 4.3) Predecir acción\n",
    "        action, _ = model.predict(obs_norm, deterministic=True)\n",
    "\n",
    "        # 4.4) Publicar\n",
    "        client.publish(\n",
    "            \"building/action\",\n",
    "            json.dumps(action.tolist())\n",
    "        )\n",
    "\n",
    "        obs_buffer.clear()\n",
    "\n",
    "    time.sleep(0.001)\n"
   ]
  },
  {
   "cell_type": "code",
   "execution_count": null,
   "id": "f7b84dc5-cdeb-477c-92fc-e14dd0060f2b",
   "metadata": {},
   "outputs": [],
   "source": []
  }
 ],
 "metadata": {
  "kernelspec": {
   "display_name": "Python (simulation)",
   "language": "python",
   "name": "simulation"
  },
  "language_info": {
   "codemirror_mode": {
    "name": "ipython",
    "version": 3
   },
   "file_extension": ".py",
   "mimetype": "text/x-python",
   "name": "python",
   "nbconvert_exporter": "python",
   "pygments_lexer": "ipython3",
   "version": "3.9.23"
  }
 },
 "nbformat": 4,
 "nbformat_minor": 5
}
