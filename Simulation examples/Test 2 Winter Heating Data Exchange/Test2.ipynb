{
 "cells": [
  {
   "cell_type": "code",
   "execution_count": 1,
   "id": "915eb9f5-ec39-441a-8905-b20e09896807",
   "metadata": {},
   "outputs": [],
   "source": [
    "import time\n",
    "from datetime import datetime\n",
    "\n",
    "from fmi_mlc import fmi_gym\n",
    "from mqtt_publisher import MQTTPublisher\n",
    "\n",
    "# import the config file generated in export process this contains the parameters for startung the simulation so user does not need to write them\n",
    "from config import parameter as dfmu"
   ]
  },
  {
   "cell_type": "code",
   "execution_count": 2,
   "id": "53d52c4c-1e53-45cd-abde-f1c65b3fd231",
   "metadata": {},
   "outputs": [
    {
     "data": {
      "text/plain": [
       "array([27.84727156, 26.8740972 , 26.4920988 , 26.95137042, 28.16732921,\n",
       "       28.51233713])"
      ]
     },
     "execution_count": 2,
     "metadata": {},
     "output_type": "execute_result"
    }
   ],
   "source": [
    "pub=MQTTPublisher(host=\"localhost\", port=1883)\n",
    "\n",
    "limits = [\n",
    "    {\"min\": float(lo), \"max\": float(hi), \"step\": 0.1}\n",
    "    for lo, hi in zip(dfmu['action_min'], dfmu['action_max'])\n",
    "]\n",
    "#starts the environment with the parameters on the config file and starts the warmup period\n",
    "env = fmi_gym(dfmu)\n",
    "env.reset()"
   ]
  },
  {
   "cell_type": "code",
   "execution_count": 3,
   "id": "9eabcf1e-d961-4238-b1cf-56f33616df66",
   "metadata": {},
   "outputs": [
    {
     "name": "stdout",
     "output_type": "stream",
     "text": [
      "¡Simulation completed\n"
     ]
    }
   ],
   "source": [
    "#main loop of the simulation\n",
    "\n",
    "default_action = {'Heat_SP_IngressoxCucina_fmu': 12.0, 'Heat_SP_Bagno_fmu': 15.0, 'Heat_SP_Camera': 17.0, 'Heat_SP_Soggiorno_fmu': 19.0, 'Heat_SP_Stairs_fmu': 21.0, 'Heat_SP_Storage_fmu': 23.0}\n",
    "\n",
    "#we create a different defult action for each actuator to be applied in order to see temperature behaviour \n",
    "\n",
    "while env.fmu_time < dfmu['fmu_final_time']:\n",
    "\n",
    "    #here you could implement your own algorithm with your own actions and conditionals so you can create custom control strategies for your model\n",
    "    #this example was only for testing data exchange between python and energyplus via the FMU\n",
    "    \n",
    "    obs, *_ = env.step(default_action) #increments a step each timestep in the idf for this example timestep is a value of 6\n",
    "    data = {n: float(v) for n, v in zip(dfmu['observation_names'], obs)}\n",
    "    \n",
    "    pub.publish_observations(data, timestamp=env.fmu_time) #publish observation data to MQTT\n",
    "\n",
    "    pub.publish_actions(default_action, timestamp=env.fmu_time) #publish actions data to MQTT\n",
    "\n",
    "    #time.stop(1) if you want to stop the simulation for a given time add this line here\n",
    "\n",
    "# close the conection to influx\n",
    "pub.close()\n",
    "\n",
    "print(\"¡Simulation completed\")"
   ]
  },
  {
   "cell_type": "code",
   "execution_count": null,
   "id": "c324577e-75ca-4487-891c-44c4de8e6463",
   "metadata": {},
   "outputs": [],
   "source": []
  }
 ],
 "metadata": {
  "kernelspec": {
   "display_name": "python 3.9 (simulation-env)",
   "language": "python",
   "name": "simulation-env"
  },
  "language_info": {
   "codemirror_mode": {
    "name": "ipython",
    "version": 3
   },
   "file_extension": ".py",
   "mimetype": "text/x-python",
   "name": "python",
   "nbconvert_exporter": "python",
   "pygments_lexer": "ipython3",
   "version": "3.9.21"
  }
 },
 "nbformat": 4,
 "nbformat_minor": 5
}
