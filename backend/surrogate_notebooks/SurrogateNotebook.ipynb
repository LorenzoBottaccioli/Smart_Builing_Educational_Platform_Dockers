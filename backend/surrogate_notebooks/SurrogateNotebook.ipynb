{
 "cells": [
  {
   "cell_type": "code",
   "execution_count": null,
   "id": "ec995ddd",
   "metadata": {
    "vscode": {
     "languageId": "plaintext"
    }
   },
   "outputs": [],
   "source": [
    "import warnings\n",
    "warnings.filterwarnings('ignore')\n",
    "\n",
    "%matplotlib inline\n",
    "import time\n",
    "import numpy as np\n",
    "import pandas as pd\n",
    "\n",
    "# BESOS\n",
    "from besos import eppy_funcs as ef\n",
    "from besos import sampling\n",
    "from besos.evaluator import EvaluatorEP, EvaluatorGeneric\n",
    "from besos.parameters import (\n",
    "    Parameter,\n",
    "    RangeParameter,\n",
    "    FieldSelector,\n",
    "    expand_plist,\n",
    "    wwr,\n",
    "    CategoryParameter,\n",
    "    GenericSelector\n",
    ")\n",
    "from besos.problem import EPProblem, Problem\n",
    "from besos.optimizer import NSGAII\n",
    "\n",
    "# Visualización\n",
    "import matplotlib.pyplot as plt\n",
    "from seaborn import heatmap, pairplot\n",
    "from plotly import express as px\n",
    "\n",
    "# Scikit-learn\n",
    "from sklearn.gaussian_process import GaussianProcessRegressor\n",
    "from sklearn.gaussian_process.kernels import RBF, Matern, RationalQuadratic\n",
    "from sklearn.model_selection import GridSearchCV, train_test_split\n",
    "from sklearn.neural_network import MLPRegressor\n",
    "from sklearn.preprocessing import StandardScaler\n",
    "from sklearn.metrics import mean_squared_error, mean_absolute_error, r2_score\n",
    "from math import sqrt\n",
    "import warnings\n",
    "\n",
    "from epw import epw\n",
    "\n",
    "import tensorflow as tf\n",
    "from tensorflow import keras\n",
    "from tensorflow.keras import layers\n",
    "\n",
    "from harlow.utils.helper_functions import latin_hypercube_sampling\n",
    "from harlow.surrogating.surrogate_model import BatchIndependentGaussianProcess\n",
    "from harlow.sampling import FuzzyLolaVoronoi"
   ]
  }
 ],
 "metadata": {
  "kernelspec": {
   "display_name": "python 3.9 (surrogate-modeling-env)",
   "language": "python",
   "name": "surrogate-modeling-env"
  },
  "language_info": {
   "codemirror_mode": {
    "name": "ipython",
    "version": 3
   },
   "file_extension": ".py",
   "mimetype": "text/x-python",
   "name": "python",
   "nbconvert_exporter": "python",
   "pygments_lexer": "ipython3",
   "version": "3.9.21"
  }
 },
 "nbformat": 4,
 "nbformat_minor": 5
}
