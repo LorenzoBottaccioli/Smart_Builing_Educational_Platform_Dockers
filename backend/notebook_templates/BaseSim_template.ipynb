{
 "cells": [
  {
   "cell_type": "code",
   "execution_count": null,
   "id": "815df3a2",
   "metadata": {
    "vscode": {
     "languageId": "plaintext"
    }
   },
   "outputs": [],
   "source": [
    "import json\n",
    "import numpy as np\n",
    "from fmi_mlc import fmi_gym\n",
    "from parameters import parameter as PARAMS\n",
    "from mqtt_publisher import MQTTPublisher\n",
    "import time"
   ]
  }
 ],
 "metadata": {
  "language_info": {
   "name": "python"
  }
 },
 "nbformat": 4,
 "nbformat_minor": 5
}
