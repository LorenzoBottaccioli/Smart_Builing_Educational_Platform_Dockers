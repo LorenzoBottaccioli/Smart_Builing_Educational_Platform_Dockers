{
 "cells": [
  {
   "cell_type": "code",
   "execution_count": null,
   "id": "48ed8f60-c7a9-40e1-b6f3-bf3d4d5264b0",
   "metadata": {},
   "outputs": [],
   "source": [
    "import os\n",
    "import numpy as np\n",
    "import gym\n",
    "import stable_baselines3\n",
    "from fmi_mlc import fmi_gym\n",
    "from parameters import parameter as PARAMS\n",
    "import matplotlib.pyplot as plt"
   ]
  }
 ],
 "metadata": {
  "kernelspec": {
   "display_name": "python 3.9(simulator-env)",
   "language": "python",
   "name": "simulator-env"
  },
  "language_info": {
   "codemirror_mode": {
    "name": "ipython",
    "version": 3
   },
   "file_extension": ".py",
   "mimetype": "text/x-python",
   "name": "python",
   "nbconvert_exporter": "python",
   "pygments_lexer": "ipython3",
   "version": "3.9.21"
  }
 },
 "nbformat": 4,
 "nbformat_minor": 5
}
